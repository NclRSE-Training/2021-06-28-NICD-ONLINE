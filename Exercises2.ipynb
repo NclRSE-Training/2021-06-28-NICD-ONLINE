{
 "cells": [
  {
   "cell_type": "code",
   "execution_count": null,
   "id": "f160e28c",
   "metadata": {},
   "outputs": [],
   "source": [
    "from toggle_cell import toggle_code as hide_solution # this is importing a function to let me hide this solution!\n",
    "\n",
    "import glob\n",
    "import numpy\n",
    "import matplotlib.pyplot\n",
    "\n",
    "filenames = sorted(glob.glob('data/inflammation*.csv'))  # find and sort all inflammation files\n",
    "\n",
    "data0 = numpy.loadtxt(fname=filenames[0], delimiter=',') # load the first data file\n",
    "data1 = numpy.loadtxt(fname=filenames[1], delimiter=',') # load the second data file\n",
    "\n",
    "fig = matplotlib.pyplot.figure(figsize=(10.0, 3.0))      # set up the figure\n",
    "\n",
    "matplotlib.pyplot.ylabel('Difference in average')        # label the y axis \n",
    "matplotlib.pyplot.plot(numpy.mean(data0, axis=0) - numpy.mean(data1, axis=0))  \n",
    "# find the difference between the means and plot\n",
    "\n",
    "fig.tight_layout()\n",
    "matplotlib.pyplot.show()\n",
    "\n",
    "hide_solution()"
   ]
  },
  {
   "cell_type": "markdown",
   "id": "a500a4b9",
   "metadata": {},
   "source": [
    "# Exercise 1: Plotting Differences\n",
    "\n",
    "### Plot the difference between the average inflammations reported in the first and second datasets (stored in inflammation-01.csv and inflammation-02.csv, correspondingly), i.e., the difference between the leftmost plots of the first two figures."
   ]
  },
  {
   "cell_type": "code",
   "execution_count": null,
   "id": "ca6020a1",
   "metadata": {},
   "outputs": [],
   "source": [
    "# This is the code we just covered, for reference:\n",
    "\n",
    "import glob               # import the needed libraries\n",
    "import numpy\n",
    "import matplotlib.pyplot\n",
    "\n",
    "filenames = sorted(glob.glob('data/inflammation*.csv')) # find all inflammation data and sort by name\n",
    "filenames = filenames[0:3]                              # select just the first 3 \n",
    "\n",
    "for filename in filenames:                              # loop over the inflammation filenames\n",
    "    print(filename)                                     # print the current filename\n",
    "    \n",
    "    data = numpy.loadtxt(fname=filename, delimiter=',') # load the current file as 'data'\n",
    "    \n",
    "    fig = matplotlib.pyplot.figure(figsize=(10.0, 3.0)) # create a figure canvas for plotting data\n",
    "    \n",
    "    axes1 = fig.add_subplot(1,3,1)                      # create subplots on that canvas\n",
    "    axes2 = fig.add_subplot(1,3,2)\n",
    "    axes3 = fig.add_subplot(1,3,3)\n",
    "    \n",
    "    axes1.set_ylabel('average')                      \n",
    "    axes1.plot(numpy.mean(data, axis=0))                # plot the average of the current data\n",
    "    \n",
    "    axes2.set_ylabel('max')\n",
    "    axes2.plot(numpy.max(data, axis=0))                 # plot the maximum values of the current data\n",
    "    \n",
    "    axes3.set_ylabel('min')\n",
    "    axes3.plot(numpy.min(data, axis=0))                 # plot the minimum values of the current data\n",
    "    \n",
    "    fig.tight_layout()                                  # 'tight_layout' adjusts subplots to fit the figure canvas \n",
    "    matplotlib.pyplot.show()                            # show the plots"
   ]
  },
  {
   "cell_type": "markdown",
   "id": "4a81157f",
   "metadata": {},
   "source": [
    "# Exercise 2: Generate composite statistics\n",
    "\n",
    "### Use each of the files once to generate a dataset containing values averaged over all patients:"
   ]
  },
  {
   "cell_type": "code",
   "execution_count": null,
   "id": "e25a0d0f",
   "metadata": {},
   "outputs": [],
   "source": [
    "filenames = glob.glob('inflammation*.csv')\n",
    "composite_data = numpy.zeros((60,40))\n",
    "for filename in filenames:\n",
    "    # read in the current data file\n",
    "    data = \n",
    "    \n",
    "    # sum each new file's data into composite_data as it's read\n",
    "    composite_data = \n",
    "    \n",
    "    # and then divide the composite_data by number of samples\n",
    "    composite_data = composite_data / len(filenames)"
   ]
  },
  {
   "cell_type": "markdown",
   "id": "f06863fe",
   "metadata": {},
   "source": [
    "### Then use pyplot to generate average, max and min for all patients"
   ]
  },
  {
   "cell_type": "code",
   "execution_count": null,
   "id": "3253204d",
   "metadata": {},
   "outputs": [],
   "source": [
    "from toggle_cell import toggle_code as hide_solution\n",
    "\n",
    "import glob\n",
    "import numpy\n",
    "import matplotlib.pyplot\n",
    "\n",
    "filenames = glob.glob('data/inflammation*.csv')\n",
    "composite_data = numpy.zeros((60,40))\n",
    "\n",
    "for filename in filenames:\n",
    "    data = numpy.loadtxt(fname = filename, delimiter=',')\n",
    "    composite_data = composite_data + data\n",
    "\n",
    "composite_data = composite_data / len(filenames)\n",
    "\n",
    "fig = matplotlib.pyplot.figure(figsize=(10.0, 3.0))\n",
    "\n",
    "axes1 = fig.add_subplot(1, 3, 1)\n",
    "axes2 = fig.add_subplot(1, 3, 2)\n",
    "axes3 = fig.add_subplot(1, 3, 3)\n",
    "\n",
    "axes1.set_ylabel('average')\n",
    "axes1.plot(numpy.mean(composite_data, axis=0))\n",
    "\n",
    "axes2.set_ylabel('max')\n",
    "axes2.plot(numpy.max(composite_data, axis=0))\n",
    "\n",
    "axes3.set_ylabel('min')\n",
    "axes3.plot(numpy.min(composite_data, axis=0))\n",
    "\n",
    "fig.tight_layout()\n",
    "\n",
    "matplotlib.pyplot.show()\n",
    "\n",
    "hide_solution()"
   ]
  },
  {
   "cell_type": "markdown",
   "id": "ddee1576",
   "metadata": {},
   "source": []
  },
  {
   "cell_type": "code",
   "execution_count": null,
   "id": "bd04e261",
   "metadata": {},
   "outputs": [],
   "source": []
  }
 ],
 "metadata": {
  "kernelspec": {
   "display_name": "Python 3",
   "language": "python",
   "name": "python3"
  },
  "language_info": {
   "codemirror_mode": {
    "name": "ipython",
    "version": 3
   },
   "file_extension": ".py",
   "mimetype": "text/x-python",
   "name": "python",
   "nbconvert_exporter": "python",
   "pygments_lexer": "ipython3",
   "version": "3.7.3"
  }
 },
 "nbformat": 4,
 "nbformat_minor": 5
}
